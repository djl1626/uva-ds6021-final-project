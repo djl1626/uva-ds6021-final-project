{
 "cells": [
  {
   "cell_type": "code",
   "execution_count": 1,
   "id": "d7e997ac-b8d4-4ba5-bd25-ad989747bcf1",
   "metadata": {},
   "outputs": [],
   "source": [
    "import pandas as pd"
   ]
  },
  {
   "cell_type": "code",
   "execution_count": 2,
   "id": "a39cfa7e-03a5-4358-8e9c-2e95caec9560",
   "metadata": {},
   "outputs": [],
   "source": [
    "stars = pd.read_csv('Stars_cleanest_r.csv')"
   ]
  },
  {
   "cell_type": "code",
   "execution_count": 4,
   "id": "d57c5ff3-8e85-4e90-94e3-54160ebf52e7",
   "metadata": {},
   "outputs": [
    {
     "data": {
      "text/plain": [
       "Color\n",
       "Red                   112\n",
       "Blue                   56\n",
       "Blue-white             26\n",
       "Blue White             10\n",
       "yellow-white            8\n",
       "White                   7\n",
       "Blue white              4\n",
       "white                   3\n",
       "Yellowish White         3\n",
       "yellowish               2\n",
       "Whitish                 2\n",
       "Orange                  2\n",
       "White-Yellow            1\n",
       "Pale yellow orange      1\n",
       "Yellowish               1\n",
       "Orange-Red              1\n",
       "Blue-White              1\n",
       "Name: count, dtype: int64"
      ]
     },
     "execution_count": 4,
     "metadata": {},
     "output_type": "execute_result"
    }
   ],
   "source": [
    "stars.Color.value_counts()"
   ]
  },
  {
   "cell_type": "code",
   "execution_count": 5,
   "id": "8f6a9588-ad1d-49a5-abbe-0fcfb0258309",
   "metadata": {},
   "outputs": [
    {
     "data": {
      "text/plain": [
       "Color\n",
       "Red_Orange      115\n",
       "Blue             56\n",
       "Blue-White       41\n",
       "Yellow_White     28\n",
       "Name: count, dtype: int64"
      ]
     },
     "execution_count": 5,
     "metadata": {},
     "output_type": "execute_result"
    }
   ],
   "source": [
    "replace_map = {\"Red\": \"Red_Orange\",\n",
    "\"Blue\": \"Blue\",\n",
    "\"Blue-white\": \"Blue-White\",\n",
    "\"Blue White\": \"Blue-White\",\n",
    "\"yellow-white\": \"Yellow_White\",\n",
    "\"White\": \"Yellow_White\",\n",
    "\"Blue white\": \"Blue-White\",\n",
    "\"white\": \"Yellow_White\",\n",
    "\"Yellowish White\": \"Yellow_White\",\n",
    "\"yellowish\": \"Yellow_White\",\n",
    "\"Whitish\": \"Yellow_White\",\n",
    "\"Orange\": \"Red_Orange\",\n",
    "\"White-Yellow\": \"Yellow_White\",\n",
    "\"Pale yellow orange\": \"Yellow_White\",\n",
    "\"Yellowish\": \"Yellow_White\",\n",
    "\"Orange-Red\": \"Red_Orange\",\n",
    "\"Blue-White\": \"Blue-White\"}\n",
    "\n",
    "stars.Color = stars.Color.replace(replace_map)\n",
    "stars.Color.value_counts()"
   ]
  },
  {
   "cell_type": "code",
   "execution_count": null,
   "id": "71c2497d-0e3a-48fb-8517-ad89438c9e50",
   "metadata": {},
   "outputs": [],
   "source": []
  }
 ],
 "metadata": {
  "kernelspec": {
   "display_name": "Python 3 (ipykernel)",
   "language": "python",
   "name": "python3"
  },
  "language_info": {
   "codemirror_mode": {
    "name": "ipython",
    "version": 3
   },
   "file_extension": ".py",
   "mimetype": "text/x-python",
   "name": "python",
   "nbconvert_exporter": "python",
   "pygments_lexer": "ipython3",
   "version": "3.12.2"
  }
 },
 "nbformat": 4,
 "nbformat_minor": 5
}
